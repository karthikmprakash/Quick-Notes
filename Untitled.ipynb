{
 "cells": [
  {
   "cell_type": "markdown",
   "metadata": {},
   "source": [
    "# Flask Tutorial \n",
    "___\n",
    "\n",
    "## Building Web App using Flask\n",
    "\n",
    "### Tech With Tim [Link to the video]()\n",
    "\n",
    "___\n",
    "\n"
   ]
  },
  {
   "cell_type": "markdown",
   "metadata": {},
   "source": [
    "### Requirements\n",
    "\n",
    "* Create the main Folder where the Project sits\n",
    "* create a sub folder called website \n",
    "    + Create two directories **static** and **templates** \n",
    "    + Create python files with names ``` __init__.py , models.py , views.py , auth.py```\n",
    "* Setup a virtual environment in the main directory \n",
    "    ***\n",
    "    ```console\n",
    "       virtualenv flask\n",
    "       flask\\scripts\\activate.bat\n",
    "       pip install flask\n",
    "       pip install flask-login\n",
    "       pip install flask-SQLAlchemy\n",
    "       \n",
    "   ```\n",
    "   ***\n",
    "   \n",
    "    "
   ]
  },
  {
   "cell_type": "markdown",
   "metadata": {},
   "source": [
    "## Step 1:\n",
    "\n",
    "### Creating a Flask App"
   ]
  },
  {
   "cell_type": "markdown",
   "metadata": {},
   "source": [
    "```python\n",
    "from website import create_app # found in the __init__.py \n",
    "\n",
    "app= create_app()\n",
    "\n",
    "if __name__=='__main__':\n",
    "    app.run(debug=True)\n",
    "```"
   ]
  },
  {
   "cell_type": "markdown",
   "metadata": {},
   "source": []
  },
  {
   "cell_type": "markdown",
   "metadata": {},
   "source": []
  }
 ],
 "metadata": {
  "kernelspec": {
   "display_name": "Python 3",
   "language": "python",
   "name": "python3"
  },
  "language_info": {
   "codemirror_mode": {
    "name": "ipython",
    "version": 3
   },
   "file_extension": ".py",
   "mimetype": "text/x-python",
   "name": "python",
   "nbconvert_exporter": "python",
   "pygments_lexer": "ipython3",
   "version": "3.7.4"
  }
 },
 "nbformat": 4,
 "nbformat_minor": 2
}
